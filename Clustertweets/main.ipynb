{
 "cells": [
  {
   "cell_type": "code",
   "execution_count": null,
   "metadata": {},
   "outputs": [],
   "source": [
    "#Import packages needed for processing\n",
    "import re\n",
    "import json\n",
    "import xml\n",
    "import numpy as np\n",
    "from collections import Counter\n",
    "from TwitterAPI import TwitterAPI # in case you need to install this package\n",
    "from sklearn.cluster import KMeans\n",
    "\n",
    "import requests\n",
    "\n",
    "# disabling urllib3 warnings\n",
    "requests.packages.urllib3.disable_warnings()\n",
    "\n",
    "import matplotlib.pyplot as plt\n",
    "%matplotlib inline\n",
    "\n",
    "#If you need add any additional packages, then add them below"
   ]
  },
  {
   "cell_type": "code",
   "execution_count": null,
   "metadata": {},
   "outputs": [],
   "source": [
    "#Enter the list of three keywords you selected to the variables keywords below\n",
    "#e.g. keywords = [\"abc\", \"def\", \"ghi\"]\n",
    "\n",
    "keywords =  [\"\", \"\", \"\"] "
   ]
  },
  {
   "cell_type": "code",
   "execution_count": null,
   "metadata": {},
   "outputs": [],
   "source": [
    "# Twitter API credentials \n",
    "CONSUMER_KEY = \"mQgIDJAtFTytvIvePq1dQIfxn\"\n",
    "CONSUMER_SECRET =  \"k5snl3ny09o2NGUeYyzIqnNxTAKOkJ7oOEwlqRUe1moZSPoE9j\"\n",
    "OAUTH_TOKEN =  \"1445007468896137220-KYZHtJ2rWYs2sfAgz9YLZlumaURcdk\"\n",
    "OAUTH_TOKEN_SECRET =  \"JCbstjYtSNxWMJ9rSyQfFAY9jKtaKfYJBLpNWNN95H4VT\"\n",
    "\n",
    "CONSUMER_KEY = \"USAF6WyaMqDpbPGEBsstoyv0u\" #API key\n",
    "CONSUMER_SECRET = \"AgZTGl1qpm3TQc7qIAYhltEmE8xfyt4Mpim3DuFba4nwefb0OC\" #API Key Secret\n",
    "OAUTH_TOKEN = \"1513718824486731778-F1Um1mDaJnJtNyYSjjfhqwgCruvcax\"\n",
    "OAUTH_TOKEN_SECRET = \"XuZBNfhO3uruP0FL6MasJJ8rFsEGAewggpiax4sNLEQvE\"\n",
    "\n",
    "# Authenticating with your application credentials\n",
    "api = TwitterAPI(CONSUMER_KEY, CONSUMER_SECRET, OAUTH_TOKEN, OAUTH_TOKEN_SECRET, api_version='2')\n",
    "\n",
    "print(api)\n"
   ]
  }
 ],
 "metadata": {
  "language_info": {
   "name": "python"
  },
  "orig_nbformat": 4
 },
 "nbformat": 4,
 "nbformat_minor": 2
}
